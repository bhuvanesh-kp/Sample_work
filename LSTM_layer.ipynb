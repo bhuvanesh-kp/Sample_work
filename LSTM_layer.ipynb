{
 "cells": [
  {
   "cell_type": "markdown",
   "id": "0bed9f0b-eee4-46cd-ab3d-930a9b7f3c4b",
   "metadata": {},
   "source": [
    "This is one of the example to have a practical on industry practice and patience in fine tunning "
   ]
  },
  {
   "cell_type": "markdown",
   "id": "cb10194b-13f0-43b5-a4cc-af911a1d1e27",
   "metadata": {},
   "source": [
    "23rd March 2024"
   ]
  },
  {
   "cell_type": "code",
   "execution_count": 1,
   "id": "9f331f80-87b6-4563-844b-ca1342c1f673",
   "metadata": {},
   "outputs": [],
   "source": [
    "import pandas as pd\n",
    "import numpy as np"
   ]
  },
  {
   "cell_type": "code",
   "execution_count": 2,
   "id": "89ba468f-9680-45f6-9135-3195ddd3371d",
   "metadata": {},
   "outputs": [
    {
     "data": {
      "text/html": [
       "<div>\n",
       "<style scoped>\n",
       "    .dataframe tbody tr th:only-of-type {\n",
       "        vertical-align: middle;\n",
       "    }\n",
       "\n",
       "    .dataframe tbody tr th {\n",
       "        vertical-align: top;\n",
       "    }\n",
       "\n",
       "    .dataframe thead th {\n",
       "        text-align: right;\n",
       "    }\n",
       "</style>\n",
       "<table border=\"1\" class=\"dataframe\">\n",
       "  <thead>\n",
       "    <tr style=\"text-align: right;\">\n",
       "      <th></th>\n",
       "      <th>review</th>\n",
       "      <th>sentiment</th>\n",
       "    </tr>\n",
       "  </thead>\n",
       "  <tbody>\n",
       "    <tr>\n",
       "      <th>0</th>\n",
       "      <td>One of the other reviewers has mentioned that ...</td>\n",
       "      <td>positive</td>\n",
       "    </tr>\n",
       "    <tr>\n",
       "      <th>1</th>\n",
       "      <td>A wonderful little production. &lt;br /&gt;&lt;br /&gt;The...</td>\n",
       "      <td>positive</td>\n",
       "    </tr>\n",
       "    <tr>\n",
       "      <th>2</th>\n",
       "      <td>I thought this was a wonderful way to spend ti...</td>\n",
       "      <td>positive</td>\n",
       "    </tr>\n",
       "    <tr>\n",
       "      <th>3</th>\n",
       "      <td>Basically there's a family where a little boy ...</td>\n",
       "      <td>negative</td>\n",
       "    </tr>\n",
       "    <tr>\n",
       "      <th>4</th>\n",
       "      <td>Petter Mattei's \"Love in the Time of Money\" is...</td>\n",
       "      <td>positive</td>\n",
       "    </tr>\n",
       "    <tr>\n",
       "      <th>...</th>\n",
       "      <td>...</td>\n",
       "      <td>...</td>\n",
       "    </tr>\n",
       "    <tr>\n",
       "      <th>49995</th>\n",
       "      <td>I thought this movie did a down right good job...</td>\n",
       "      <td>positive</td>\n",
       "    </tr>\n",
       "    <tr>\n",
       "      <th>49996</th>\n",
       "      <td>Bad plot, bad dialogue, bad acting, idiotic di...</td>\n",
       "      <td>negative</td>\n",
       "    </tr>\n",
       "    <tr>\n",
       "      <th>49997</th>\n",
       "      <td>I am a Catholic taught in parochial elementary...</td>\n",
       "      <td>negative</td>\n",
       "    </tr>\n",
       "    <tr>\n",
       "      <th>49998</th>\n",
       "      <td>I'm going to have to disagree with the previou...</td>\n",
       "      <td>negative</td>\n",
       "    </tr>\n",
       "    <tr>\n",
       "      <th>49999</th>\n",
       "      <td>No one expects the Star Trek movies to be high...</td>\n",
       "      <td>negative</td>\n",
       "    </tr>\n",
       "  </tbody>\n",
       "</table>\n",
       "<p>50000 rows × 2 columns</p>\n",
       "</div>"
      ],
      "text/plain": [
       "                                                  review sentiment\n",
       "0      One of the other reviewers has mentioned that ...  positive\n",
       "1      A wonderful little production. <br /><br />The...  positive\n",
       "2      I thought this was a wonderful way to spend ti...  positive\n",
       "3      Basically there's a family where a little boy ...  negative\n",
       "4      Petter Mattei's \"Love in the Time of Money\" is...  positive\n",
       "...                                                  ...       ...\n",
       "49995  I thought this movie did a down right good job...  positive\n",
       "49996  Bad plot, bad dialogue, bad acting, idiotic di...  negative\n",
       "49997  I am a Catholic taught in parochial elementary...  negative\n",
       "49998  I'm going to have to disagree with the previou...  negative\n",
       "49999  No one expects the Star Trek movies to be high...  negative\n",
       "\n",
       "[50000 rows x 2 columns]"
      ]
     },
     "execution_count": 2,
     "metadata": {},
     "output_type": "execute_result"
    }
   ],
   "source": [
    "df = pd.read_csv(\"word2vec/IMDB Dataset.csv\")\n",
    "df"
   ]
  },
  {
   "cell_type": "code",
   "execution_count": 3,
   "id": "2b9451c8-2994-4a26-a2dc-2fba49b3e0fc",
   "metadata": {},
   "outputs": [
    {
     "data": {
      "text/plain": [
       "(50000, 2)"
      ]
     },
     "execution_count": 3,
     "metadata": {},
     "output_type": "execute_result"
    }
   ],
   "source": [
    "df.shape"
   ]
  },
  {
   "cell_type": "code",
   "execution_count": 4,
   "id": "6bcfa1a5-ad83-4097-92d6-73825808fef4",
   "metadata": {},
   "outputs": [
    {
     "data": {
      "text/plain": [
       "review       One of the other reviewers has mentioned that ...\n",
       "sentiment                                             positive\n",
       "Name: 0, dtype: object"
      ]
     },
     "execution_count": 4,
     "metadata": {},
     "output_type": "execute_result"
    }
   ],
   "source": [
    "df.iloc[0]"
   ]
  },
  {
   "cell_type": "code",
   "execution_count": 5,
   "id": "a5d4e304-2c24-42a3-885d-d36040ca4f4a",
   "metadata": {},
   "outputs": [
    {
     "data": {
      "text/plain": [
       "\"One of the other reviewers has mentioned that after watching just 1 Oz episode you'll be hooked. They are right, as this is exactly what happened with me.<br /><br />The first thing that struck me about Oz was its brutality and unflinching scenes of violence, which set in right from the word GO. Trust me, this is not a show for the faint hearted or timid. This show pulls no punches with regards to drugs, sex or violence. Its is hardcore, in the classic use of the word.<br /><br />It is called OZ as that is the nickname given to the Oswald Maximum Security State Penitentary. It focuses mainly on Emerald City, an experimental section of the prison where all the cells have glass fronts and face inwards, so privacy is not high on the agenda. Em City is home to many..Aryans, Muslims, gangstas, Latinos, Christians, Italians, Irish and more....so scuffles, death stares, dodgy dealings and shady agreements are never far away.<br /><br />I would say the main appeal of the show is due to the fact that it goes where other shows wouldn't dare. Forget pretty pictures painted for mainstream audiences, forget charm, forget romance...OZ doesn't mess around. The first episode I ever saw struck me as so nasty it was surreal, I couldn't say I was ready for it, but as I watched more, I developed a taste for Oz, and got accustomed to the high levels of graphic violence. Not just violence, but injustice (crooked guards who'll be sold out for a nickel, inmates who'll kill on order and get away with it, well mannered, middle class inmates being turned into prison bitches due to their lack of street skills or prison experience) Watching Oz, you may become comfortable with what is uncomfortable viewing....thats if you can get in touch with your darker side.\""
      ]
     },
     "execution_count": 5,
     "metadata": {},
     "output_type": "execute_result"
    }
   ],
   "source": [
    "df['review'][0]"
   ]
  },
  {
   "cell_type": "code",
   "execution_count": 6,
   "id": "667e5731-80d0-45da-b348-8db8f16016dd",
   "metadata": {},
   "outputs": [
    {
     "data": {
      "text/plain": [
       "review       50000\n",
       "sentiment    50000\n",
       "dtype: int64"
      ]
     },
     "execution_count": 6,
     "metadata": {},
     "output_type": "execute_result"
    }
   ],
   "source": [
    "df.notnull().sum()"
   ]
  },
  {
   "cell_type": "code",
   "execution_count": 7,
   "id": "63ee3e50-5278-447d-b1fb-4aef53f27b27",
   "metadata": {},
   "outputs": [],
   "source": [
    "from nltk.corpus import stopwords\n",
    "import re\n",
    "import nltk"
   ]
  },
  {
   "cell_type": "code",
   "execution_count": 8,
   "id": "57ef9272-4c5f-47b1-9923-e9c509706cf0",
   "metadata": {},
   "outputs": [
    {
     "name": "stderr",
     "output_type": "stream",
     "text": [
      "[nltk_data] Downloading package stopwords to C:\\Users\\BHUVANESH\n",
      "[nltk_data]     KP\\AppData\\Roaming\\nltk_data...\n",
      "[nltk_data]   Package stopwords is already up-to-date!\n"
     ]
    },
    {
     "data": {
      "text/plain": [
       "True"
      ]
     },
     "execution_count": 8,
     "metadata": {},
     "output_type": "execute_result"
    }
   ],
   "source": [
    "nltk.download('stopwords')"
   ]
  },
  {
   "cell_type": "code",
   "execution_count": 9,
   "id": "d7259afc-7e82-4c73-8ba0-5518bb7cf2dc",
   "metadata": {},
   "outputs": [],
   "source": [
    "from nltk.stem.porter import PorterStemmer\n",
    "ps = PorterStemmer()\n",
    "\n",
    "message = df['review'][:500]\n",
    "\n",
    "for i in range(0,len(message)):\n",
    "    text = message[i]\n",
    "    text = re.sub('[^a-zA-Z]',\" \",text)\n",
    "    text = text.lower()\n",
    "    text = text.split()\n",
    "\n",
    "    text = [ps.stem(word) for word in text if word not in stopwords.words('english')]\n",
    "    text = \" \".join(text)\n",
    "    message[i] = text\n",
    "    "
   ]
  },
  {
   "cell_type": "code",
   "execution_count": 10,
   "id": "630e76a2-f352-49d1-909e-419b48efe00a",
   "metadata": {},
   "outputs": [
    {
     "data": {
      "text/plain": [
       "'one review mention watch oz episod hook right exactli happen br br first thing struck oz brutal unflinch scene violenc set right word go trust show faint heart timid show pull punch regard drug sex violenc hardcor classic use word br br call oz nicknam given oswald maximum secur state penitentari focus mainli emerald citi experiment section prison cell glass front face inward privaci high agenda em citi home mani aryan muslim gangsta latino christian italian irish scuffl death stare dodgi deal shadi agreement never far away br br would say main appeal show due fact goe show dare forget pretti pictur paint mainstream audienc forget charm forget romanc oz mess around first episod ever saw struck nasti surreal say readi watch develop tast oz got accustom high level graphic violenc violenc injustic crook guard sold nickel inmat kill order get away well manner middl class inmat turn prison bitch due lack street skill prison experi watch oz may becom comfort uncomfort view that get touch darker side'"
      ]
     },
     "execution_count": 10,
     "metadata": {},
     "output_type": "execute_result"
    }
   ],
   "source": [
    "message[0]"
   ]
  },
  {
   "cell_type": "code",
   "execution_count": 11,
   "id": "eee4d05c-a10b-4305-83ff-4ece6ef59d24",
   "metadata": {},
   "outputs": [],
   "source": [
    "from tqdm import tqdm"
   ]
  },
  {
   "cell_type": "code",
   "execution_count": 12,
   "id": "0628f20a-89de-4a29-a34c-938af983dcda",
   "metadata": {},
   "outputs": [
    {
     "data": {
      "text/plain": [
       "'self indulg movi everi misfortun br br rent unwatch much movi obvious improvis br br well look like toback took first take br br everyth movi get good coupl minut br br robert downey jr show goe hell real br br quickli'"
      ]
     },
     "execution_count": 12,
     "metadata": {},
     "output_type": "execute_result"
    }
   ],
   "source": [
    "message[415]"
   ]
  },
  {
   "cell_type": "code",
   "execution_count": 13,
   "id": "95e02213-d30d-4653-9808-1dc1b67df2c0",
   "metadata": {},
   "outputs": [],
   "source": [
    "import tensorflow as tf"
   ]
  },
  {
   "cell_type": "code",
   "execution_count": 14,
   "id": "73fd339b-926c-498c-916a-fe050d0fd32d",
   "metadata": {},
   "outputs": [],
   "source": [
    "from tensorflow.keras.preprocessing.text import one_hot\n",
    "from tensorflow.keras.preprocessing.sequence import pad_sequences"
   ]
  },
  {
   "cell_type": "code",
   "execution_count": 15,
   "id": "143b2031-5dfd-4ac3-b156-194466759378",
   "metadata": {},
   "outputs": [
    {
     "data": {
      "text/plain": [
       "[3174,\n",
       " 249,\n",
       " 440,\n",
       " 3511,\n",
       " 2745,\n",
       " 1843,\n",
       " 2962,\n",
       " 1000,\n",
       " 3685,\n",
       " 1997,\n",
       " 2809,\n",
       " 2809,\n",
       " 4158,\n",
       " 1322,\n",
       " 4417,\n",
       " 2745,\n",
       " 1513,\n",
       " 2181,\n",
       " 4115,\n",
       " 2354,\n",
       " 4302,\n",
       " 1000,\n",
       " 4202,\n",
       " 1176,\n",
       " 393,\n",
       " 1739,\n",
       " 4930,\n",
       " 4186,\n",
       " 3411,\n",
       " 1739,\n",
       " 2242,\n",
       " 2964,\n",
       " 3634,\n",
       " 2353,\n",
       " 4762,\n",
       " 2354,\n",
       " 702,\n",
       " 2300,\n",
       " 2057,\n",
       " 4202,\n",
       " 2809,\n",
       " 2809,\n",
       " 3132,\n",
       " 2745,\n",
       " 1090,\n",
       " 1908,\n",
       " 4940,\n",
       " 3145,\n",
       " 331,\n",
       " 4054,\n",
       " 3318,\n",
       " 2257,\n",
       " 4336,\n",
       " 1341,\n",
       " 1,\n",
       " 1894,\n",
       " 4433,\n",
       " 4048,\n",
       " 2799,\n",
       " 2084,\n",
       " 2753,\n",
       " 1925,\n",
       " 2173,\n",
       " 1718,\n",
       " 4936,\n",
       " 4915,\n",
       " 803,\n",
       " 1,\n",
       " 4763,\n",
       " 4188,\n",
       " 1113,\n",
       " 4397,\n",
       " 2466,\n",
       " 4919,\n",
       " 4347,\n",
       " 3739,\n",
       " 2892,\n",
       " 3549,\n",
       " 4782,\n",
       " 386,\n",
       " 4678,\n",
       " 3002,\n",
       " 2579,\n",
       " 2284,\n",
       " 2940,\n",
       " 2861,\n",
       " 4558,\n",
       " 2809,\n",
       " 2809,\n",
       " 4388,\n",
       " 1529,\n",
       " 526,\n",
       " 935,\n",
       " 1739,\n",
       " 1398,\n",
       " 4188,\n",
       " 821,\n",
       " 1739,\n",
       " 3027,\n",
       " 2673,\n",
       " 1838,\n",
       " 3503,\n",
       " 4228,\n",
       " 3814,\n",
       " 3458,\n",
       " 2673,\n",
       " 472,\n",
       " 2673,\n",
       " 579,\n",
       " 2745,\n",
       " 3188,\n",
       " 775,\n",
       " 4158,\n",
       " 1843,\n",
       " 2402,\n",
       " 1955,\n",
       " 4417,\n",
       " 3293,\n",
       " 589,\n",
       " 1529,\n",
       " 594,\n",
       " 3511,\n",
       " 195,\n",
       " 3937,\n",
       " 2745,\n",
       " 3658,\n",
       " 593,\n",
       " 4936,\n",
       " 830,\n",
       " 772,\n",
       " 2354,\n",
       " 2354,\n",
       " 4700,\n",
       " 924,\n",
       " 513,\n",
       " 1663,\n",
       " 2670,\n",
       " 999,\n",
       " 1345,\n",
       " 364,\n",
       " 800,\n",
       " 4558,\n",
       " 181,\n",
       " 1991,\n",
       " 1256,\n",
       " 2718,\n",
       " 999,\n",
       " 783,\n",
       " 4048,\n",
       " 4467,\n",
       " 1398,\n",
       " 341,\n",
       " 954,\n",
       " 3594,\n",
       " 4048,\n",
       " 4155,\n",
       " 3511,\n",
       " 2745,\n",
       " 2619,\n",
       " 2263,\n",
       " 4344,\n",
       " 3929,\n",
       " 2960,\n",
       " 4374,\n",
       " 800,\n",
       " 4760,\n",
       " 1610,\n",
       " 3979]"
      ]
     },
     "execution_count": 15,
     "metadata": {},
     "output_type": "execute_result"
    }
   ],
   "source": [
    "max_vocab = 5000\n",
    "\n",
    "\n",
    "message = [one_hot(word,max_vocab) for word in message]\n",
    "message[0]"
   ]
  },
  {
   "cell_type": "code",
   "execution_count": 16,
   "id": "5a2a15ad-6534-41eb-b8bd-0233c55b1af3",
   "metadata": {},
   "outputs": [
    {
     "data": {
      "text/plain": [
       "[168,\n",
       " 92,\n",
       " 88,\n",
       " 70,\n",
       " 133,\n",
       " 54,\n",
       " 74,\n",
       " 80,\n",
       " 64,\n",
       " 19,\n",
       " 58,\n",
       " 86,\n",
       " 234,\n",
       " 60,\n",
       " 26,\n",
       " 71,\n",
       " 53,\n",
       " 127,\n",
       " 63,\n",
       " 62,\n",
       " 185,\n",
       " 95,\n",
       " 28,\n",
       " 167,\n",
       " 72,\n",
       " 68,\n",
       " 278,\n",
       " 74,\n",
       " 58,\n",
       " 380,\n",
       " 253,\n",
       " 227,\n",
       " 56,\n",
       " 384,\n",
       " 110,\n",
       " 180,\n",
       " 37,\n",
       " 171,\n",
       " 57,\n",
       " 137,\n",
       " 60,\n",
       " 126,\n",
       " 97,\n",
       " 146,\n",
       " 83,\n",
       " 109,\n",
       " 44,\n",
       " 74,\n",
       " 379,\n",
       " 66,\n",
       " 244,\n",
       " 327,\n",
       " 97,\n",
       " 38,\n",
       " 107,\n",
       " 111,\n",
       " 107,\n",
       " 88,\n",
       " 313,\n",
       " 231,\n",
       " 73,\n",
       " 83,\n",
       " 48,\n",
       " 22,\n",
       " 107,\n",
       " 160,\n",
       " 206,\n",
       " 67,\n",
       " 102,\n",
       " 166,\n",
       " 118,\n",
       " 135,\n",
       " 128,\n",
       " 85,\n",
       " 169,\n",
       " 69,\n",
       " 172,\n",
       " 296,\n",
       " 81,\n",
       " 150,\n",
       " 80,\n",
       " 72,\n",
       " 139,\n",
       " 220,\n",
       " 36,\n",
       " 66,\n",
       " 150,\n",
       " 64,\n",
       " 113,\n",
       " 209,\n",
       " 88,\n",
       " 92,\n",
       " 213,\n",
       " 100,\n",
       " 75,\n",
       " 145,\n",
       " 99,\n",
       " 72,\n",
       " 96,\n",
       " 277,\n",
       " 76,\n",
       " 385,\n",
       " 72,\n",
       " 207,\n",
       " 97,\n",
       " 116,\n",
       " 50,\n",
       " 156,\n",
       " 102,\n",
       " 57,\n",
       " 78,\n",
       " 100,\n",
       " 21,\n",
       " 58,\n",
       " 139,\n",
       " 63,\n",
       " 168,\n",
       " 44,\n",
       " 44,\n",
       " 144,\n",
       " 56,\n",
       " 86,\n",
       " 125,\n",
       " 81,\n",
       " 78,\n",
       " 60,\n",
       " 240,\n",
       " 69,\n",
       " 87,\n",
       " 72,\n",
       " 104,\n",
       " 234,\n",
       " 70,\n",
       " 67,\n",
       " 107,\n",
       " 208,\n",
       " 56,\n",
       " 144,\n",
       " 148,\n",
       " 145,\n",
       " 234,\n",
       " 162,\n",
       " 256,\n",
       " 53,\n",
       " 137,\n",
       " 141,\n",
       " 111,\n",
       " 167,\n",
       " 61,\n",
       " 156,\n",
       " 101,\n",
       " 96,\n",
       " 106,\n",
       " 114,\n",
       " 96,\n",
       " 46,\n",
       " 467,\n",
       " 78,\n",
       " 72,\n",
       " 57,\n",
       " 26,\n",
       " 105,\n",
       " 28,\n",
       " 290,\n",
       " 204,\n",
       " 33,\n",
       " 65,\n",
       " 115,\n",
       " 51,\n",
       " 191,\n",
       " 128,\n",
       " 81,\n",
       " 322,\n",
       " 232,\n",
       " 141,\n",
       " 139,\n",
       " 132,\n",
       " 466,\n",
       " 106,\n",
       " 125,\n",
       " 69,\n",
       " 65,\n",
       " 281,\n",
       " 137,\n",
       " 36,\n",
       " 140,\n",
       " 290,\n",
       " 51,\n",
       " 107,\n",
       " 250,\n",
       " 166,\n",
       " 407,\n",
       " 66,\n",
       " 24,\n",
       " 60,\n",
       " 98,\n",
       " 117,\n",
       " 103,\n",
       " 269,\n",
       " 67,\n",
       " 61,\n",
       " 128,\n",
       " 183,\n",
       " 29,\n",
       " 86,\n",
       " 57,\n",
       " 61,\n",
       " 70,\n",
       " 64,\n",
       " 37,\n",
       " 292,\n",
       " 27,\n",
       " 66,\n",
       " 40,\n",
       " 88,\n",
       " 168,\n",
       " 144,\n",
       " 63,\n",
       " 247,\n",
       " 82,\n",
       " 53,\n",
       " 126,\n",
       " 158,\n",
       " 144,\n",
       " 146,\n",
       " 124,\n",
       " 170,\n",
       " 90,\n",
       " 364,\n",
       " 69,\n",
       " 33,\n",
       " 29,\n",
       " 62,\n",
       " 45,\n",
       " 79,\n",
       " 74,\n",
       " 32,\n",
       " 69,\n",
       " 152,\n",
       " 102,\n",
       " 66,\n",
       " 80,\n",
       " 59,\n",
       " 84,\n",
       " 90,\n",
       " 22,\n",
       " 99,\n",
       " 71,\n",
       " 80,\n",
       " 73,\n",
       " 79,\n",
       " 100,\n",
       " 188,\n",
       " 173,\n",
       " 249,\n",
       " 187,\n",
       " 52,\n",
       " 228,\n",
       " 264,\n",
       " 119,\n",
       " 237,\n",
       " 72,\n",
       " 136,\n",
       " 458,\n",
       " 62,\n",
       " 70,\n",
       " 92,\n",
       " 307,\n",
       " 79,\n",
       " 63,\n",
       " 117,\n",
       " 85,\n",
       " 181,\n",
       " 210,\n",
       " 97,\n",
       " 71,\n",
       " 360,\n",
       " 211,\n",
       " 77,\n",
       " 34,\n",
       " 138,\n",
       " 61,\n",
       " 71,\n",
       " 91,\n",
       " 124,\n",
       " 62,\n",
       " 153,\n",
       " 48,\n",
       " 180,\n",
       " 66,\n",
       " 66,\n",
       " 55,\n",
       " 72,\n",
       " 105,\n",
       " 68,\n",
       " 234,\n",
       " 62,\n",
       " 306,\n",
       " 133,\n",
       " 65,\n",
       " 80,\n",
       " 77,\n",
       " 59,\n",
       " 146,\n",
       " 125,\n",
       " 53,\n",
       " 159,\n",
       " 62,\n",
       " 39,\n",
       " 62,\n",
       " 512,\n",
       " 56,\n",
       " 66,\n",
       " 33,\n",
       " 196,\n",
       " 146,\n",
       " 73,\n",
       " 47,\n",
       " 113,\n",
       " 203,\n",
       " 511,\n",
       " 38,\n",
       " 378,\n",
       " 72,\n",
       " 28,\n",
       " 121,\n",
       " 57,\n",
       " 135,\n",
       " 83,\n",
       " 24,\n",
       " 52,\n",
       " 35,\n",
       " 252,\n",
       " 86,\n",
       " 80,\n",
       " 72,\n",
       " 30,\n",
       " 85,\n",
       " 294,\n",
       " 80,\n",
       " 57,\n",
       " 73,\n",
       " 84,\n",
       " 197,\n",
       " 155,\n",
       " 177,\n",
       " 99,\n",
       " 43,\n",
       " 65,\n",
       " 188,\n",
       " 143,\n",
       " 59,\n",
       " 178,\n",
       " 366,\n",
       " 119,\n",
       " 72,\n",
       " 133,\n",
       " 210,\n",
       " 23,\n",
       " 97,\n",
       " 81,\n",
       " 105,\n",
       " 168,\n",
       " 415,\n",
       " 289,\n",
       " 550,\n",
       " 194,\n",
       " 64,\n",
       " 95,\n",
       " 59,\n",
       " 83,\n",
       " 167,\n",
       " 160,\n",
       " 400,\n",
       " 284,\n",
       " 151,\n",
       " 75,\n",
       " 38,\n",
       " 465,\n",
       " 158,\n",
       " 103,\n",
       " 70,\n",
       " 43,\n",
       " 20,\n",
       " 171,\n",
       " 118,\n",
       " 62,\n",
       " 121,\n",
       " 29,\n",
       " 144,\n",
       " 75,\n",
       " 100,\n",
       " 65,\n",
       " 157,\n",
       " 27,\n",
       " 169,\n",
       " 98,\n",
       " 145,\n",
       " 84,\n",
       " 47,\n",
       " 251,\n",
       " 94,\n",
       " 217,\n",
       " 142,\n",
       " 145,\n",
       " 90,\n",
       " 79,\n",
       " 208,\n",
       " 60,\n",
       " 68,\n",
       " 350,\n",
       " 195,\n",
       " 71,\n",
       " 8,\n",
       " 64,\n",
       " 42,\n",
       " 66,\n",
       " 95,\n",
       " 311,\n",
       " 182,\n",
       " 203,\n",
       " 83,\n",
       " 203,\n",
       " 111,\n",
       " 304,\n",
       " 58,\n",
       " 125,\n",
       " 88,\n",
       " 82,\n",
       " 184,\n",
       " 119,\n",
       " 170,\n",
       " 90,\n",
       " 381,\n",
       " 65,\n",
       " 263,\n",
       " 95,\n",
       " 31,\n",
       " 119,\n",
       " 112,\n",
       " 147,\n",
       " 60,\n",
       " 234,\n",
       " 99,\n",
       " 95,\n",
       " 90,\n",
       " 86,\n",
       " 75,\n",
       " 36,\n",
       " 59,\n",
       " 148,\n",
       " 53,\n",
       " 83,\n",
       " 147,\n",
       " 339,\n",
       " 100,\n",
       " 366,\n",
       " 217,\n",
       " 157,\n",
       " 73,\n",
       " 30,\n",
       " 71,\n",
       " 79,\n",
       " 357,\n",
       " 121,\n",
       " 106,\n",
       " 123,\n",
       " 128,\n",
       " 35,\n",
       " 29,\n",
       " 136,\n",
       " 115,\n",
       " 154,\n",
       " 342,\n",
       " 82,\n",
       " 185,\n",
       " 211,\n",
       " 109,\n",
       " 140,\n",
       " 224,\n",
       " 123,\n",
       " 91,\n",
       " 42,\n",
       " 43,\n",
       " 82,\n",
       " 99,\n",
       " 60,\n",
       " 165,\n",
       " 182,\n",
       " 160,\n",
       " 77,\n",
       " 27,\n",
       " 232,\n",
       " 108,\n",
       " 110,\n",
       " 133,\n",
       " 76,\n",
       " 69,\n",
       " 98,\n",
       " 533]"
      ]
     },
     "execution_count": 16,
     "metadata": {},
     "output_type": "execute_result"
    }
   ],
   "source": [
    "num_length = [len(word) for word in message]\n",
    "num_length\n",
    "\n"
   ]
  },
  {
   "cell_type": "code",
   "execution_count": 17,
   "id": "fc3cfb82-355b-44b3-8fb7-b6f42c35517b",
   "metadata": {},
   "outputs": [
    {
     "data": {
      "text/plain": [
       "249.0"
      ]
     },
     "execution_count": 17,
     "metadata": {},
     "output_type": "execute_result"
    }
   ],
   "source": [
    "num = np.percentile(num_length , 90)\n",
    "round(num,0)"
   ]
  },
  {
   "cell_type": "code",
   "execution_count": 18,
   "id": "5b40f8d7-bcb5-402d-8890-d3f8cefa30d0",
   "metadata": {},
   "outputs": [
    {
     "data": {
      "text/plain": [
       "array([3174,  249,  440, 3511, 2745, 1843, 2962, 1000, 3685, 1997, 2809,\n",
       "       2809, 4158, 1322, 4417, 2745, 1513, 2181, 4115, 2354, 4302, 1000,\n",
       "       4202, 1176,  393, 1739, 4930, 4186, 3411, 1739, 2242, 2964, 3634,\n",
       "       2353, 4762, 2354,  702, 2300, 2057, 4202, 2809, 2809, 3132, 2745,\n",
       "       1090, 1908, 4940, 3145,  331, 4054, 3318, 2257, 4336, 1341,    1,\n",
       "       1894, 4433, 4048, 2799, 2084, 2753, 1925, 2173, 1718, 4936, 4915,\n",
       "        803,    1, 4763, 4188, 1113, 4397, 2466, 4919, 4347, 3739, 2892,\n",
       "       3549, 4782,  386, 4678, 3002, 2579, 2284, 2940, 2861, 4558, 2809,\n",
       "       2809, 4388, 1529,  526,  935, 1739, 1398, 4188,  821, 1739, 3027,\n",
       "       2673, 1838, 3503, 4228, 3814, 3458, 2673,  472, 2673,  579, 2745,\n",
       "       3188,  775, 4158, 1843, 2402, 1955, 4417, 3293,  589, 1529,  594,\n",
       "       3511,  195, 3937, 2745, 3658,  593, 4936,  830,  772, 2354, 2354,\n",
       "       4700,  924,  513, 1663, 2670,  999, 1345,  364,  800, 4558,  181,\n",
       "       1991, 1256, 2718,  999,  783, 4048, 4467, 1398,  341,  954, 3594,\n",
       "       4048, 4155, 3511, 2745, 2619, 2263, 4344, 3929, 2960, 4374,  800,\n",
       "       4760, 1610, 3979,    0,    0,    0,    0,    0,    0,    0,    0,\n",
       "          0,    0,    0,    0,    0,    0,    0,    0,    0,    0,    0,\n",
       "          0,    0,    0,    0,    0,    0,    0,    0,    0,    0,    0,\n",
       "          0,    0,    0,    0,    0,    0,    0,    0,    0,    0,    0,\n",
       "          0,    0,    0,    0,    0,    0,    0,    0,    0,    0,    0,\n",
       "          0,    0,    0,    0,    0,    0,    0,    0,    0,    0,    0,\n",
       "          0,    0,    0,    0,    0,    0,    0,    0,    0,    0,    0,\n",
       "          0,    0,    0,    0,    0,    0,    0])"
      ]
     },
     "execution_count": 18,
     "metadata": {},
     "output_type": "execute_result"
    }
   ],
   "source": [
    "message = pad_sequences(message , maxlen = int(round(num,0)) ,padding = 'post')\n",
    "message[0]"
   ]
  },
  {
   "cell_type": "code",
   "execution_count": 19,
   "id": "6078279a-2a76-45f8-a46b-53bce9a011c4",
   "metadata": {},
   "outputs": [],
   "source": [
    "from tensorflow.keras.models import Sequential\n",
    "from tensorflow.keras.layers import Dense\n",
    "from tensorflow.keras.layers import Embedding\n",
    "from tensorflow.keras.layers import LSTM\n",
    "from tensorflow.keras.layers import Flatten"
   ]
  },
  {
   "cell_type": "code",
   "execution_count": 30,
   "id": "c1280b6b-c094-45b9-9318-3a67b971ed37",
   "metadata": {},
   "outputs": [],
   "source": [
    "model = Sequential(name = \"LSTM_Project\")\n",
    "model.add(Embedding(max_vocab , 32 ,input_length=int(num)))\n",
    "model.add(LSTM(int(num)))\n",
    "model.add(Dense(1,activation='sigmoid'))"
   ]
  },
  {
   "cell_type": "code",
   "execution_count": 31,
   "id": "d2074054-4320-40de-b5bc-9f06a61debf3",
   "metadata": {},
   "outputs": [],
   "source": [
    "y = df['sentiment'][:500]"
   ]
  },
  {
   "cell_type": "code",
   "execution_count": 32,
   "id": "69d3c34b-3c58-4fdb-9bae-e450fc212b19",
   "metadata": {},
   "outputs": [
    {
     "data": {
      "text/plain": [
       "[[3], [3], [3], [4], [3]]"
      ]
     },
     "execution_count": 32,
     "metadata": {},
     "output_type": "execute_result"
    }
   ],
   "source": [
    "y = [one_hot(i,5) for i in y]\n",
    "y[:5]"
   ]
  },
  {
   "cell_type": "code",
   "execution_count": 33,
   "id": "06937766-2ef1-4394-9740-b7ebba6c52ce",
   "metadata": {},
   "outputs": [],
   "source": [
    "from sklearn.model_selection import train_test_split"
   ]
  },
  {
   "cell_type": "code",
   "execution_count": 34,
   "id": "19fd3399-f100-4a27-9cf4-0e1b806f923d",
   "metadata": {},
   "outputs": [],
   "source": [
    "x_train,x_test,y_train,y_test = train_test_split(message,y,test_size=0.1)"
   ]
  },
  {
   "cell_type": "code",
   "execution_count": 35,
   "id": "10fa6603-0416-40a6-ab84-7be7b7f1ef8e",
   "metadata": {},
   "outputs": [
    {
     "name": "stdout",
     "output_type": "stream",
     "text": [
      "Model: \"LSTM_Project\"\n",
      "_________________________________________________________________\n",
      " Layer (type)                Output Shape              Param #   \n",
      "=================================================================\n",
      " embedding_1 (Embedding)     (None, 249, 32)           160000    \n",
      "                                                                 \n",
      " lstm_1 (LSTM)               (None, 249)               280872    \n",
      "                                                                 \n",
      " dense_1 (Dense)             (None, 1)                 250       \n",
      "                                                                 \n",
      "=================================================================\n",
      "Total params: 441122 (1.68 MB)\n",
      "Trainable params: 441122 (1.68 MB)\n",
      "Non-trainable params: 0 (0.00 Byte)\n",
      "_________________________________________________________________\n"
     ]
    }
   ],
   "source": [
    "model.compile(optimizer=\"adam\" , loss=\"binary_crossentropy\" , metrics=['accuracy'])\n",
    "model.summary()"
   ]
  },
  {
   "cell_type": "code",
   "execution_count": 36,
   "id": "24126294-c1a8-4a5d-9d58-ead8c0b34ca0",
   "metadata": {},
   "outputs": [
    {
     "data": {
      "text/plain": [
       "(450, 249)"
      ]
     },
     "execution_count": 36,
     "metadata": {},
     "output_type": "execute_result"
    }
   ],
   "source": [
    "x_train.shape"
   ]
  },
  {
   "cell_type": "code",
   "execution_count": 37,
   "id": "ca8c9f3f-9458-4e50-814a-71db94bea5ce",
   "metadata": {},
   "outputs": [
    {
     "data": {
      "text/plain": [
       "[3]"
      ]
     },
     "execution_count": 37,
     "metadata": {},
     "output_type": "execute_result"
    }
   ],
   "source": [
    "y_train[0]"
   ]
  },
  {
   "cell_type": "code",
   "execution_count": 38,
   "id": "68062b5f-f23d-4b41-83a4-887348e0a71d",
   "metadata": {},
   "outputs": [],
   "source": [
    "y_train = np.array(y_train)\n",
    "y_test = np.array(y_test)"
   ]
  },
  {
   "cell_type": "code",
   "execution_count": 39,
   "id": "e69d5f55-bedd-44b7-8709-b119dbf846b7",
   "metadata": {},
   "outputs": [
    {
     "name": "stdout",
     "output_type": "stream",
     "text": [
      "Epoch 1/20\n",
      "15/15 [==============================] - 17s 935ms/step - loss: -13.4579 - accuracy: 0.0000e+00\n",
      "Epoch 2/20\n",
      "15/15 [==============================] - 14s 918ms/step - loss: -45.3571 - accuracy: 0.0000e+00\n",
      "Epoch 3/20\n",
      "15/15 [==============================] - 13s 876ms/step - loss: -59.7259 - accuracy: 0.0000e+00\n",
      "Epoch 4/20\n",
      "15/15 [==============================] - 14s 916ms/step - loss: -70.7473 - accuracy: 0.0000e+00\n",
      "Epoch 5/20\n",
      "15/15 [==============================] - 14s 916ms/step - loss: -81.0904 - accuracy: 0.0000e+00\n",
      "Epoch 6/20\n",
      "15/15 [==============================] - 14s 922ms/step - loss: -91.1035 - accuracy: 0.0000e+00\n",
      "Epoch 7/20\n",
      "15/15 [==============================] - 14s 893ms/step - loss: -100.8209 - accuracy: 0.0000e+00\n",
      "Epoch 8/20\n",
      "15/15 [==============================] - 14s 905ms/step - loss: -110.4145 - accuracy: 0.0000e+00\n",
      "Epoch 9/20\n",
      "15/15 [==============================] - 14s 926ms/step - loss: -119.8929 - accuracy: 0.0000e+00\n",
      "Epoch 10/20\n",
      "15/15 [==============================] - 14s 956ms/step - loss: -129.2693 - accuracy: 0.0000e+00\n",
      "Epoch 11/20\n",
      "15/15 [==============================] - 14s 926ms/step - loss: -138.6781 - accuracy: 0.0000e+00\n",
      "Epoch 12/20\n",
      "15/15 [==============================] - 14s 902ms/step - loss: -148.1129 - accuracy: 0.0000e+00\n",
      "Epoch 13/20\n",
      "15/15 [==============================] - 13s 858ms/step - loss: -157.6019 - accuracy: 0.0000e+00\n",
      "Epoch 14/20\n",
      "15/15 [==============================] - 14s 924ms/step - loss: -167.0792 - accuracy: 0.0000e+00\n",
      "Epoch 15/20\n",
      "15/15 [==============================] - 14s 941ms/step - loss: -176.6757 - accuracy: 0.0000e+00\n",
      "Epoch 16/20\n",
      "15/15 [==============================] - 14s 914ms/step - loss: -186.0586 - accuracy: 0.0000e+00\n",
      "Epoch 17/20\n",
      "15/15 [==============================] - 14s 942ms/step - loss: -195.3497 - accuracy: 0.0000e+00\n",
      "Epoch 18/20\n",
      "15/15 [==============================] - 14s 908ms/step - loss: -204.7628 - accuracy: 0.0000e+00\n",
      "Epoch 19/20\n",
      "15/15 [==============================] - 14s 953ms/step - loss: -214.1093 - accuracy: 0.0000e+00\n",
      "Epoch 20/20\n",
      "15/15 [==============================] - 14s 930ms/step - loss: -223.3434 - accuracy: 0.0000e+00\n"
     ]
    },
    {
     "data": {
      "text/plain": [
       "<keras.src.callbacks.History at 0x1fd1c44f210>"
      ]
     },
     "execution_count": 39,
     "metadata": {},
     "output_type": "execute_result"
    }
   ],
   "source": [
    "model.fit(x_train,y_train,epochs = 20,verbose=1)"
   ]
  },
  {
   "cell_type": "code",
   "execution_count": null,
   "id": "0968fa86-0bec-4a21-814c-8233479efae7",
   "metadata": {},
   "outputs": [],
   "source": []
  }
 ],
 "metadata": {
  "kernelspec": {
   "display_name": "Python 3 (ipykernel)",
   "language": "python",
   "name": "python3"
  },
  "language_info": {
   "codemirror_mode": {
    "name": "ipython",
    "version": 3
   },
   "file_extension": ".py",
   "mimetype": "text/x-python",
   "name": "python",
   "nbconvert_exporter": "python",
   "pygments_lexer": "ipython3",
   "version": "3.11.5"
  }
 },
 "nbformat": 4,
 "nbformat_minor": 5
}
