{
 "cells": [
  {
   "cell_type": "code",
   "execution_count": 76,
   "id": "69e2b41e-09a4-461a-96f6-ec2b9db99deb",
   "metadata": {},
   "outputs": [],
   "source": [
    "import tensorflow as tf"
   ]
  },
  {
   "cell_type": "code",
   "execution_count": 77,
   "id": "8fd45346-e796-4ae5-a62d-399a7303573f",
   "metadata": {},
   "outputs": [],
   "source": [
    "from tensorflow.keras import Model,Sequential\n",
    "from tensorflow.keras.layers import Activation,Dense,Embedding,GlobalAveragePooling1D\n",
    "from tensorflow.keras.layers.experimental.preprocessing import TextVectorization"
   ]
  },
  {
   "cell_type": "code",
   "execution_count": 81,
   "id": "ab2404b7-09f9-4c7d-a6c2-81e6574c8e24",
   "metadata": {},
   "outputs": [],
   "source": [
    "import numpy as np"
   ]
  },
  {
   "cell_type": "code",
   "execution_count": 85,
   "id": "8da8fbaa-b9e9-4d42-b829-b81e6b4fbadb",
   "metadata": {},
   "outputs": [],
   "source": [
    "from tensorflow.keras.preprocessing.text import one_hot"
   ]
  },
  {
   "cell_type": "code",
   "execution_count": 92,
   "id": "24049b9f-ad74-483a-9972-d8f8f0145206",
   "metadata": {},
   "outputs": [],
   "source": [
    "from tensorflow.keras.models import Sequential\n",
    "from tensorflow.keras.layers import Dense\n",
    "from tensorflow.keras.layers import Flatten\n",
    "from tensorflow.keras.layers import Embedding"
   ]
  },
  {
   "cell_type": "code",
   "execution_count": 3,
   "id": "1972f7e2-8487-40a6-b183-6a2b0d938c83",
   "metadata": {},
   "outputs": [],
   "source": [
    "import pandas as pd\n",
    "import numpy as np"
   ]
  },
  {
   "cell_type": "code",
   "execution_count": 55,
   "id": "87bd8c3d-fc7f-413c-9f8e-bc4c4d290f51",
   "metadata": {},
   "outputs": [
    {
     "data": {
      "text/html": [
       "<div>\n",
       "<style scoped>\n",
       "    .dataframe tbody tr th:only-of-type {\n",
       "        vertical-align: middle;\n",
       "    }\n",
       "\n",
       "    .dataframe tbody tr th {\n",
       "        vertical-align: top;\n",
       "    }\n",
       "\n",
       "    .dataframe thead th {\n",
       "        text-align: right;\n",
       "    }\n",
       "</style>\n",
       "<table border=\"1\" class=\"dataframe\">\n",
       "  <thead>\n",
       "    <tr style=\"text-align: right;\">\n",
       "      <th></th>\n",
       "      <th>review</th>\n",
       "      <th>sentiment</th>\n",
       "    </tr>\n",
       "  </thead>\n",
       "  <tbody>\n",
       "    <tr>\n",
       "      <th>0</th>\n",
       "      <td>One of the other reviewers has mentioned that ...</td>\n",
       "      <td>positive</td>\n",
       "    </tr>\n",
       "    <tr>\n",
       "      <th>1</th>\n",
       "      <td>A wonderful little production. &lt;br /&gt;&lt;br /&gt;The...</td>\n",
       "      <td>positive</td>\n",
       "    </tr>\n",
       "    <tr>\n",
       "      <th>2</th>\n",
       "      <td>I thought this was a wonderful way to spend ti...</td>\n",
       "      <td>positive</td>\n",
       "    </tr>\n",
       "    <tr>\n",
       "      <th>3</th>\n",
       "      <td>Basically there's a family where a little boy ...</td>\n",
       "      <td>negative</td>\n",
       "    </tr>\n",
       "    <tr>\n",
       "      <th>4</th>\n",
       "      <td>Petter Mattei's \"Love in the Time of Money\" is...</td>\n",
       "      <td>positive</td>\n",
       "    </tr>\n",
       "  </tbody>\n",
       "</table>\n",
       "</div>"
      ],
      "text/plain": [
       "                                              review sentiment\n",
       "0  One of the other reviewers has mentioned that ...  positive\n",
       "1  A wonderful little production. <br /><br />The...  positive\n",
       "2  I thought this was a wonderful way to spend ti...  positive\n",
       "3  Basically there's a family where a little boy ...  negative\n",
       "4  Petter Mattei's \"Love in the Time of Money\" is...  positive"
      ]
     },
     "execution_count": 55,
     "metadata": {},
     "output_type": "execute_result"
    }
   ],
   "source": [
    "df = pd.read_csv(\"word2vec/IMDB Dataset.csv\")\n",
    "df.head()"
   ]
  },
  {
   "cell_type": "code",
   "execution_count": 56,
   "id": "acbe1edc-0599-4c45-abe4-6e660a63d5a3",
   "metadata": {},
   "outputs": [],
   "source": [
    "import tensorflow as tf"
   ]
  },
  {
   "cell_type": "code",
   "execution_count": 57,
   "id": "959167e7-101a-4819-a5e8-087be97994b3",
   "metadata": {},
   "outputs": [],
   "source": [
    "from tensorflow.keras.preprocessing.text import one_hot\n",
    "from tensorflow.keras.models import Sequential\n",
    "from tensorflow.keras.layers import Embedding\n",
    "from tensorflow.keras.layers import Flatten\n",
    "from tensorflow.keras.layers import Dense\n",
    "from tensorflow.keras.preprocessing.sequence import pad_sequences"
   ]
  },
  {
   "cell_type": "code",
   "execution_count": 58,
   "id": "5f403eea-dd08-44ce-8dc8-22ebca0752c0",
   "metadata": {},
   "outputs": [
    {
     "data": {
      "text/plain": [
       "array([['positive'],\n",
       "       ['positive'],\n",
       "       ['positive'],\n",
       "       ...,\n",
       "       ['negative'],\n",
       "       ['negative'],\n",
       "       ['negative']], dtype='<U8')"
      ]
     },
     "execution_count": 58,
     "metadata": {},
     "output_type": "execute_result"
    }
   ],
   "source": [
    "y = df['sentiment'].to_list()\n",
    "y = np.array(y).reshape(-1,1)\n",
    "y"
   ]
  },
  {
   "cell_type": "code",
   "execution_count": 59,
   "id": "5c83f59e-95d4-4846-9112-b207aed803e3",
   "metadata": {},
   "outputs": [
    {
     "data": {
      "text/plain": [
       "(50000, 1)"
      ]
     },
     "execution_count": 59,
     "metadata": {},
     "output_type": "execute_result"
    }
   ],
   "source": [
    "y.shape"
   ]
  },
  {
   "cell_type": "code",
   "execution_count": 60,
   "id": "a88eb866-5375-48f6-b78e-aa498147853b",
   "metadata": {},
   "outputs": [],
   "source": [
    "from sklearn.model_selection import train_test_split"
   ]
  },
  {
   "cell_type": "code",
   "execution_count": 61,
   "id": "0bb12ca5-2f4d-40b5-b690-abb67ba1c0e4",
   "metadata": {},
   "outputs": [
    {
     "data": {
      "text/plain": [
       "(35000,)"
      ]
     },
     "execution_count": 61,
     "metadata": {},
     "output_type": "execute_result"
    }
   ],
   "source": [
    "x_train,y_train,x_test,y_test = train_test_split(df['review'],df['sentiment'],test_size=0.3,random_state=42)\n",
    "x_train.shape"
   ]
  },
  {
   "cell_type": "code",
   "execution_count": 62,
   "id": "96e03f6b-1a0e-4594-a593-08d7ca8e7f9c",
   "metadata": {},
   "outputs": [
    {
     "data": {
      "text/plain": [
       "array([[0., 1.],\n",
       "       [0., 1.],\n",
       "       [0., 1.],\n",
       "       ...,\n",
       "       [1., 0.],\n",
       "       [1., 0.],\n",
       "       [1., 0.]])"
      ]
     },
     "execution_count": 62,
     "metadata": {},
     "output_type": "execute_result"
    }
   ],
   "source": [
    "from sklearn.preprocessing import OneHotEncoder\n",
    "from sklearn.compose import ColumnTransformer\n",
    "ct = ColumnTransformer(transformers=[('encoder',OneHotEncoder(),[0])],remainder=\"passthrough\")\n",
    "y = ct.fit_transform(y)\n",
    "y"
   ]
  },
  {
   "cell_type": "code",
   "execution_count": 63,
   "id": "42551fa5-3649-4cf2-ad8b-969ed6b56c28",
   "metadata": {},
   "outputs": [
    {
     "data": {
      "text/plain": [
       "(array([1]), array([0]))"
      ]
     },
     "execution_count": 63,
     "metadata": {},
     "output_type": "execute_result"
    }
   ],
   "source": [
    "y = pad_sequences(y,maxlen=1,padding=\"post\")\n",
    "y[0] , y[3]"
   ]
  },
  {
   "cell_type": "code",
   "execution_count": 64,
   "id": "0b647370-bb0e-47ed-845e-319955d30d9d",
   "metadata": {},
   "outputs": [
    {
     "data": {
      "text/plain": [
       "0    One of the other reviewers has mentioned that ...\n",
       "1    A wonderful little production. <br /><br />The...\n",
       "2    I thought this was a wonderful way to spend ti...\n",
       "3    Basically there's a family where a little boy ...\n",
       "4    Petter Mattei's \"Love in the Time of Money\" is...\n",
       "Name: review, dtype: object"
      ]
     },
     "execution_count": 64,
     "metadata": {},
     "output_type": "execute_result"
    }
   ],
   "source": [
    "df['review'].head()"
   ]
  },
  {
   "cell_type": "code",
   "execution_count": 65,
   "id": "a8f2238f-7b86-413d-8b18-90598a3416de",
   "metadata": {},
   "outputs": [
    {
     "data": {
      "text/plain": [
       "\"One of the other reviewers has mentioned that after watching just 1 Oz episode you'll be hooked. They are right, as this is exactly what happened with me.<br /><br />The first thing that struck me about Oz was its brutality and unflinching scenes of violence, which set in right from the word GO. Trust me, this is not a show for the faint hearted or timid. This show pulls no punches with regards to drugs, sex or violence. Its is hardcore, in the classic use of the word.<br /><br />It is called OZ as that is the nickname given to the Oswald Maximum Security State Penitentary. It focuses mainly on Emerald City, an experimental section of the prison where all the cells have glass fronts and face inwards, so privacy is not high on the agenda. Em City is home to many..Aryans, Muslims, gangstas, Latinos, Christians, Italians, Irish and more....so scuffles, death stares, dodgy dealings and shady agreements are never far away.<br /><br />I would say the main appeal of the show is due to the fact that it goes where other shows wouldn't dare. Forget pretty pictures painted for mainstream audiences, forget charm, forget romance...OZ doesn't mess around. The first episode I ever saw struck me as so nasty it was surreal, I couldn't say I was ready for it, but as I watched more, I developed a taste for Oz, and got accustomed to the high levels of graphic violence. Not just violence, but injustice (crooked guards who'll be sold out for a nickel, inmates who'll kill on order and get away with it, well mannered, middle class inmates being turned into prison bitches due to their lack of street skills or prison experience) Watching Oz, you may become comfortable with what is uncomfortable viewing....thats if you can get in touch with your darker side.\""
      ]
     },
     "execution_count": 65,
     "metadata": {},
     "output_type": "execute_result"
    }
   ],
   "source": [
    "df['review'][0]"
   ]
  },
  {
   "cell_type": "code",
   "execution_count": 162,
   "id": "30a94abd-a353-4514-a7a5-72ef3482dda6",
   "metadata": {},
   "outputs": [],
   "source": [
    "size = [len(word) for word in df['review']]\n",
    "sum(size)/len(size)  , size[100] , sum(size)\n",
    "maxlen= 1824"
   ]
  },
  {
   "cell_type": "code",
   "execution_count": 45,
   "id": "b31e91d2-4bdf-47ce-8c4f-f02e2d202032",
   "metadata": {},
   "outputs": [],
   "source": [
    "def convert(text):\n",
    "    return one_hot(text,65471551);"
   ]
  },
  {
   "cell_type": "code",
   "execution_count": 66,
   "id": "6cd6ebc8-64f0-4171-8b8a-2477b7ea40fa",
   "metadata": {},
   "outputs": [
    {
     "name": "stdout",
     "output_type": "stream",
     "text": [
      "[33461517, 58290166, 8816788, 36648152]\n"
     ]
    }
   ],
   "source": [
    "print(convert(\"My name is kpb\"))"
   ]
  },
  {
   "cell_type": "code",
   "execution_count": 165,
   "id": "3b3c09e0-3530-4a4d-a006-900c00437a43",
   "metadata": {},
   "outputs": [
    {
     "data": {
      "text/plain": [
       "'This movie is a riot. I cannot remember the last time I had such a great time at the movies. I\\'ve seen a few good comedies in my time and usually they are pretty funny. But this one is wall to wall great lines. I think Best in Show is the last movie that I laughed so hard and so much in. The movie was non-stop until the end when they did the 5 minutes of sentimental plot clean up. Other than that it\\'s a constant barrage of one liners and goofy situations. I\\'d like to see it again before it leaves the theater because this is like the Zucker movies where you don\\'t get all the jokes the first time around. You have to see it two or three times to get it all in.<br /><br />As far as the actual film goes, it could have used a better edit, it\\'s choppy at times but we have to be forgiving for that. All the characters are great. It\\'s not like an Adam Sandler movie where he tries to be funny and everyone else suffers around him and is the butt of the joke. I think I will remember all the main characters for years to come because they are all so likable. No victims in this movie. Also, thank God they got a 45 year old actress to play his girlfriend. Catherine Keener plays her and she is a sweetheart in this film. You just wish that women like her really existed. She\\'s not a \"10\" like some of the other leading ladies but somehow her smile is warmer than Julia Roberts overdone overbite.<br /><br />If you see the trailer for this film you may not think too highly of it. I assure you, the trailer does not do it justice. They do not give away all the good jokes. Just some of the mediocre ones.<br /><br />Oh and one more thing. I hope critics put this on their top ten list. Many of them complain that comedies don\\'t get the recognition they deserve and then at the end of the year they don\\'t put it on their list. This means you Ebert!!!'"
      ]
     },
     "execution_count": 165,
     "metadata": {},
     "output_type": "execute_result"
    }
   ],
   "source": [
    "sample = df.iloc[487]['review']\n",
    "sample"
   ]
  },
  {
   "cell_type": "code",
   "execution_count": 166,
   "id": "db5c38a6-2de2-44b3-ae37-a444708189e9",
   "metadata": {},
   "outputs": [
    {
     "data": {
      "text/plain": [
       "'positive'"
      ]
     },
     "execution_count": 166,
     "metadata": {},
     "output_type": "execute_result"
    }
   ],
   "source": [
    "val = df.iloc[487]['sentiment']\n",
    "val"
   ]
  },
  {
   "cell_type": "code",
   "execution_count": 167,
   "id": "7b15df92-10a2-43c3-a7bd-ef464aa3cc5f",
   "metadata": {},
   "outputs": [
    {
     "data": {
      "text/plain": [
       "['This movie is a riot',\n",
       " ' I cannot remember the last time I had such a great time at the movies',\n",
       " \" I've seen a few good comedies in my time and usually they are pretty funny\",\n",
       " ' But this one is wall to wall great lines',\n",
       " ' I think Best in Show is the last movie that I laughed so hard and so much in',\n",
       " ' The movie was non-stop until the end when they did the 5 minutes of sentimental plot clean up',\n",
       " \" Other than that it's a constant barrage of one liners and goofy situations\",\n",
       " \" I'd like to see it again before it leaves the theater because this is like the Zucker movies where you don't get all the jokes the first time around\",\n",
       " ' You have to see it two or three times to get it all in',\n",
       " \"<br /><br />As far as the actual film goes, it could have used a better edit, it's choppy at times but we have to be forgiving for that\",\n",
       " ' All the characters are great',\n",
       " \" It's not like an Adam Sandler movie where he tries to be funny and everyone else suffers around him and is the butt of the joke\",\n",
       " ' I think I will remember all the main characters for years to come because they are all so likable',\n",
       " ' No victims in this movie',\n",
       " ' Also, thank God they got a 45 year old actress to play his girlfriend',\n",
       " ' Catherine Keener plays her and she is a sweetheart in this film',\n",
       " ' You just wish that women like her really existed',\n",
       " ' She\\'s not a \"10\" like some of the other leading ladies but somehow her smile is warmer than Julia Roberts overdone overbite',\n",
       " '<br /><br />If you see the trailer for this film you may not think too highly of it',\n",
       " ' I assure you, the trailer does not do it justice',\n",
       " ' They do not give away all the good jokes',\n",
       " ' Just some of the mediocre ones',\n",
       " '<br /><br />Oh and one more thing',\n",
       " ' I hope critics put this on their top ten list',\n",
       " \" Many of them complain that comedies don't get the recognition they deserve and then at the end of the year they don't put it on their list\",\n",
       " ' This means you Ebert!!!']"
      ]
     },
     "execution_count": 167,
     "metadata": {},
     "output_type": "execute_result"
    }
   ],
   "source": [
    "sample = sample.split(\".\")\n",
    "sample"
   ]
  },
  {
   "cell_type": "code",
   "execution_count": 168,
   "id": "9dfdac00-6f0d-422a-9169-4ce18fced4c3",
   "metadata": {},
   "outputs": [
    {
     "data": {
      "text/plain": [
       "(35.0, 1824)"
      ]
     },
     "execution_count": 168,
     "metadata": {},
     "output_type": "execute_result"
    }
   ],
   "source": [
    "avg_len = [len(word) for word in sample]\n",
    "a_len = sum(avg_len)/len(avg_len)\n",
    "round(a_len,0)//2 , sum(avg_len)"
   ]
  },
  {
   "cell_type": "code",
   "execution_count": 169,
   "id": "64ca50fd-9635-4802-9196-571ac501671b",
   "metadata": {},
   "outputs": [
    {
     "data": {
      "text/plain": [
       "[[1039, 622, 1146, 1265, 1578],\n",
       " [22,\n",
       "  278,\n",
       "  1258,\n",
       "  329,\n",
       "  711,\n",
       "  1449,\n",
       "  22,\n",
       "  583,\n",
       "  375,\n",
       "  1265,\n",
       "  936,\n",
       "  1449,\n",
       "  433,\n",
       "  329,\n",
       "  1424],\n",
       " [904,\n",
       "  824,\n",
       "  1265,\n",
       "  1204,\n",
       "  1784,\n",
       "  839,\n",
       "  291,\n",
       "  295,\n",
       "  1449,\n",
       "  284,\n",
       "  1682,\n",
       "  138,\n",
       "  1612,\n",
       "  573,\n",
       "  684],\n",
       " [253, 1039, 1810, 1146, 1785, 102, 1785, 936, 1511],\n",
       " [22,\n",
       "  1464,\n",
       "  336,\n",
       "  291,\n",
       "  1788,\n",
       "  1146,\n",
       "  329,\n",
       "  711,\n",
       "  622,\n",
       "  53,\n",
       "  22,\n",
       "  547,\n",
       "  1492,\n",
       "  1544,\n",
       "  284,\n",
       "  1492,\n",
       "  147,\n",
       "  291],\n",
       " [329,\n",
       "  622,\n",
       "  736,\n",
       "  1565,\n",
       "  830,\n",
       "  458,\n",
       "  329,\n",
       "  872,\n",
       "  57,\n",
       "  138,\n",
       "  1394,\n",
       "  329,\n",
       "  916,\n",
       "  1738,\n",
       "  294,\n",
       "  694,\n",
       "  991,\n",
       "  1783,\n",
       "  1800],\n",
       " [1633, 99, 53, 411, 1265, 1331, 1462, 294, 1810, 614, 284, 51, 1292],\n",
       " [736,\n",
       "  557,\n",
       "  102,\n",
       "  863,\n",
       "  1636,\n",
       "  737,\n",
       "  46,\n",
       "  1636,\n",
       "  872,\n",
       "  329,\n",
       "  1049,\n",
       "  1471,\n",
       "  1039,\n",
       "  1146,\n",
       "  557,\n",
       "  329,\n",
       "  985,\n",
       "  1424,\n",
       "  509,\n",
       "  1341,\n",
       "  432,\n",
       "  1074,\n",
       "  7,\n",
       "  329,\n",
       "  488,\n",
       "  329,\n",
       "  1207,\n",
       "  1449,\n",
       "  149],\n",
       " [1341, 630, 102, 863, 1636, 1101, 714, 865, 1477, 102, 1074, 1636, 7, 291],\n",
       " [315,\n",
       "  315,\n",
       "  880,\n",
       "  876,\n",
       "  880,\n",
       "  329,\n",
       "  1646,\n",
       "  1460,\n",
       "  27,\n",
       "  1636,\n",
       "  58,\n",
       "  630,\n",
       "  1286,\n",
       "  1265,\n",
       "  111,\n",
       "  158,\n",
       "  411,\n",
       "  271,\n",
       "  433,\n",
       "  1477,\n",
       "  253,\n",
       "  904,\n",
       "  630,\n",
       "  102,\n",
       "  1400,\n",
       "  720,\n",
       "  972,\n",
       "  53],\n",
       " [7, 329, 1606, 1612, 936],\n",
       " [411,\n",
       "  1235,\n",
       "  557,\n",
       "  1482,\n",
       "  965,\n",
       "  211,\n",
       "  622,\n",
       "  509,\n",
       "  1098,\n",
       "  1652,\n",
       "  102,\n",
       "  1400,\n",
       "  684,\n",
       "  284,\n",
       "  913,\n",
       "  942,\n",
       "  70,\n",
       "  149,\n",
       "  926,\n",
       "  284,\n",
       "  1146,\n",
       "  329,\n",
       "  477,\n",
       "  294,\n",
       "  329,\n",
       "  1436],\n",
       " [22,\n",
       "  1464,\n",
       "  22,\n",
       "  302,\n",
       "  1258,\n",
       "  7,\n",
       "  329,\n",
       "  108,\n",
       "  1606,\n",
       "  972,\n",
       "  1109,\n",
       "  102,\n",
       "  626,\n",
       "  1471,\n",
       "  138,\n",
       "  1612,\n",
       "  7,\n",
       "  1492,\n",
       "  940],\n",
       " [786, 504, 291, 1039, 622],\n",
       " [409, 1796, 308, 138, 998, 1265, 1560, 118, 1325, 1514, 102, 288, 390, 110],\n",
       " [546, 285, 1463, 1052, 284, 994, 1146, 1265, 1623, 291, 1039, 1460],\n",
       " [1341, 739, 1069, 53, 405, 557, 1052, 491, 1199],\n",
       " [1439,\n",
       "  1235,\n",
       "  1265,\n",
       "  407,\n",
       "  557,\n",
       "  154,\n",
       "  294,\n",
       "  329,\n",
       "  1633,\n",
       "  270,\n",
       "  1807,\n",
       "  253,\n",
       "  483,\n",
       "  1052,\n",
       "  1292,\n",
       "  1146,\n",
       "  1553,\n",
       "  99,\n",
       "  941,\n",
       "  1602,\n",
       "  1441,\n",
       "  1339],\n",
       " [315,\n",
       "  315,\n",
       "  255,\n",
       "  1341,\n",
       "  863,\n",
       "  329,\n",
       "  1013,\n",
       "  972,\n",
       "  1039,\n",
       "  1460,\n",
       "  1341,\n",
       "  1349,\n",
       "  1235,\n",
       "  1464,\n",
       "  788,\n",
       "  604,\n",
       "  294,\n",
       "  1636],\n",
       " [22, 1173, 1341, 329, 1013, 443, 1235, 1514, 1636, 1633],\n",
       " [138, 1514, 1235, 82, 827, 7, 329, 1784, 488],\n",
       " [739, 154, 294, 329, 973, 510],\n",
       " [315, 315, 854, 284, 1810, 649, 1620],\n",
       " [22, 231, 1403, 1094, 1039, 38, 849, 85, 282, 82],\n",
       " [1013,\n",
       "  294,\n",
       "  1709,\n",
       "  1097,\n",
       "  53,\n",
       "  839,\n",
       "  432,\n",
       "  1074,\n",
       "  329,\n",
       "  1531,\n",
       "  138,\n",
       "  1183,\n",
       "  284,\n",
       "  522,\n",
       "  433,\n",
       "  329,\n",
       "  872,\n",
       "  294,\n",
       "  329,\n",
       "  118,\n",
       "  138,\n",
       "  432,\n",
       "  1094,\n",
       "  1636,\n",
       "  38,\n",
       "  849,\n",
       "  82],\n",
       " [1039, 882, 1341, 287]]"
      ]
     },
     "execution_count": 169,
     "metadata": {},
     "output_type": "execute_result"
    }
   ],
   "source": [
    "coded = [one_hot(word,maxlen) for word in sample]\n",
    "coded"
   ]
  },
  {
   "cell_type": "code",
   "execution_count": 170,
   "id": "27ebf3c2-6292-415d-8278-3644cc000e18",
   "metadata": {},
   "outputs": [
    {
     "data": {
      "text/plain": [
       "(array([1039,  882, 1341,  287,    0,    0,    0,    0,    0,    0,    0,\n",
       "           0,    0,    0,    0,    0,    0,    0,    0,    0,    0,    0,\n",
       "           0,    0,    0,    0,    0,    0,    0,    0,    0,    0,    0,\n",
       "           0,    0]),\n",
       " 26)"
      ]
     },
     "execution_count": 170,
     "metadata": {},
     "output_type": "execute_result"
    }
   ],
   "source": [
    "seq= pad_sequences(coded,maxlen=round(a_len)//2,padding='post')\n",
    "seq[len(avg_len)-1] , len(avg_len)"
   ]
  },
  {
   "cell_type": "code",
   "execution_count": 171,
   "id": "bb5e04ad-3a3b-4c95-bf6a-72a7057fbf5e",
   "metadata": {},
   "outputs": [
    {
     "data": {
      "text/plain": [
       "array([[1039,  622, 1146, 1265, 1578,    0,    0,    0,    0,    0,    0,\n",
       "           0,    0,    0,    0,    0,    0,    0,    0,    0,    0,    0,\n",
       "           0,    0,    0,    0,    0,    0,    0,    0,    0,    0,    0,\n",
       "           0,    0],\n",
       "       [  22,  278, 1258,  329,  711, 1449,   22,  583,  375, 1265,  936,\n",
       "        1449,  433,  329, 1424,    0,    0,    0,    0,    0,    0,    0,\n",
       "           0,    0,    0,    0,    0,    0,    0,    0,    0,    0,    0,\n",
       "           0,    0],\n",
       "       [ 904,  824, 1265, 1204, 1784,  839,  291,  295, 1449,  284, 1682,\n",
       "         138, 1612,  573,  684,    0,    0,    0,    0,    0,    0,    0,\n",
       "           0,    0,    0,    0,    0,    0,    0,    0,    0,    0,    0,\n",
       "           0,    0],\n",
       "       [ 253, 1039, 1810, 1146, 1785,  102, 1785,  936, 1511,    0,    0,\n",
       "           0,    0,    0,    0,    0,    0,    0,    0,    0,    0,    0,\n",
       "           0,    0,    0,    0,    0,    0,    0,    0,    0,    0,    0,\n",
       "           0,    0],\n",
       "       [  22, 1464,  336,  291, 1788, 1146,  329,  711,  622,   53,   22,\n",
       "         547, 1492, 1544,  284, 1492,  147,  291,    0,    0,    0,    0,\n",
       "           0,    0,    0,    0,    0,    0,    0,    0,    0,    0,    0,\n",
       "           0,    0],\n",
       "       [ 329,  622,  736, 1565,  830,  458,  329,  872,   57,  138, 1394,\n",
       "         329,  916, 1738,  294,  694,  991, 1783, 1800,    0,    0,    0,\n",
       "           0,    0,    0,    0,    0,    0,    0,    0,    0,    0,    0,\n",
       "           0,    0],\n",
       "       [1633,   99,   53,  411, 1265, 1331, 1462,  294, 1810,  614,  284,\n",
       "          51, 1292,    0,    0,    0,    0,    0,    0,    0,    0,    0,\n",
       "           0,    0,    0,    0,    0,    0,    0,    0,    0,    0,    0,\n",
       "           0,    0],\n",
       "       [ 736,  557,  102,  863, 1636,  737,   46, 1636,  872,  329, 1049,\n",
       "        1471, 1039, 1146,  557,  329,  985, 1424,  509, 1341,  432, 1074,\n",
       "           7,  329,  488,  329, 1207, 1449,  149,    0,    0,    0,    0,\n",
       "           0,    0],\n",
       "       [1341,  630,  102,  863, 1636, 1101,  714,  865, 1477,  102, 1074,\n",
       "        1636,    7,  291,    0,    0,    0,    0,    0,    0,    0,    0,\n",
       "           0,    0,    0,    0,    0,    0,    0,    0,    0,    0,    0,\n",
       "           0,    0],\n",
       "       [ 315,  315,  880,  876,  880,  329, 1646, 1460,   27, 1636,   58,\n",
       "         630, 1286, 1265,  111,  158,  411,  271,  433, 1477,  253,  904,\n",
       "         630,  102, 1400,  720,  972,   53,    0,    0,    0,    0,    0,\n",
       "           0,    0],\n",
       "       [   7,  329, 1606, 1612,  936,    0,    0,    0,    0,    0,    0,\n",
       "           0,    0,    0,    0,    0,    0,    0,    0,    0,    0,    0,\n",
       "           0,    0,    0,    0,    0,    0,    0,    0,    0,    0,    0,\n",
       "           0,    0],\n",
       "       [ 411, 1235,  557, 1482,  965,  211,  622,  509, 1098, 1652,  102,\n",
       "        1400,  684,  284,  913,  942,   70,  149,  926,  284, 1146,  329,\n",
       "         477,  294,  329, 1436,    0,    0,    0,    0,    0,    0,    0,\n",
       "           0,    0],\n",
       "       [  22, 1464,   22,  302, 1258,    7,  329,  108, 1606,  972, 1109,\n",
       "         102,  626, 1471,  138, 1612,    7, 1492,  940,    0,    0,    0,\n",
       "           0,    0,    0,    0,    0,    0,    0,    0,    0,    0,    0,\n",
       "           0,    0],\n",
       "       [ 786,  504,  291, 1039,  622,    0,    0,    0,    0,    0,    0,\n",
       "           0,    0,    0,    0,    0,    0,    0,    0,    0,    0,    0,\n",
       "           0,    0,    0,    0,    0,    0,    0,    0,    0,    0,    0,\n",
       "           0,    0],\n",
       "       [ 409, 1796,  308,  138,  998, 1265, 1560,  118, 1325, 1514,  102,\n",
       "         288,  390,  110,    0,    0,    0,    0,    0,    0,    0,    0,\n",
       "           0,    0,    0,    0,    0,    0,    0,    0,    0,    0,    0,\n",
       "           0,    0],\n",
       "       [ 546,  285, 1463, 1052,  284,  994, 1146, 1265, 1623,  291, 1039,\n",
       "        1460,    0,    0,    0,    0,    0,    0,    0,    0,    0,    0,\n",
       "           0,    0,    0,    0,    0,    0,    0,    0,    0,    0,    0,\n",
       "           0,    0],\n",
       "       [1341,  739, 1069,   53,  405,  557, 1052,  491, 1199,    0,    0,\n",
       "           0,    0,    0,    0,    0,    0,    0,    0,    0,    0,    0,\n",
       "           0,    0,    0,    0,    0,    0,    0,    0,    0,    0,    0,\n",
       "           0,    0],\n",
       "       [1439, 1235, 1265,  407,  557,  154,  294,  329, 1633,  270, 1807,\n",
       "         253,  483, 1052, 1292, 1146, 1553,   99,  941, 1602, 1441, 1339,\n",
       "           0,    0,    0,    0,    0,    0,    0,    0,    0,    0,    0,\n",
       "           0,    0],\n",
       "       [ 315,  315,  255, 1341,  863,  329, 1013,  972, 1039, 1460, 1341,\n",
       "        1349, 1235, 1464,  788,  604,  294, 1636,    0,    0,    0,    0,\n",
       "           0,    0,    0,    0,    0,    0,    0,    0,    0,    0,    0,\n",
       "           0,    0],\n",
       "       [  22, 1173, 1341,  329, 1013,  443, 1235, 1514, 1636, 1633,    0,\n",
       "           0,    0,    0,    0,    0,    0,    0,    0,    0,    0,    0,\n",
       "           0,    0,    0,    0,    0,    0,    0,    0,    0,    0,    0,\n",
       "           0,    0],\n",
       "       [ 138, 1514, 1235,   82,  827,    7,  329, 1784,  488,    0,    0,\n",
       "           0,    0,    0,    0,    0,    0,    0,    0,    0,    0,    0,\n",
       "           0,    0,    0,    0,    0,    0,    0,    0,    0,    0,    0,\n",
       "           0,    0],\n",
       "       [ 739,  154,  294,  329,  973,  510,    0,    0,    0,    0,    0,\n",
       "           0,    0,    0,    0,    0,    0,    0,    0,    0,    0,    0,\n",
       "           0,    0,    0,    0,    0,    0,    0,    0,    0,    0,    0,\n",
       "           0,    0],\n",
       "       [ 315,  315,  854,  284, 1810,  649, 1620,    0,    0,    0,    0,\n",
       "           0,    0,    0,    0,    0,    0,    0,    0,    0,    0,    0,\n",
       "           0,    0,    0,    0,    0,    0,    0,    0,    0,    0,    0,\n",
       "           0,    0],\n",
       "       [  22,  231, 1403, 1094, 1039,   38,  849,   85,  282,   82,    0,\n",
       "           0,    0,    0,    0,    0,    0,    0,    0,    0,    0,    0,\n",
       "           0,    0,    0,    0,    0,    0,    0,    0,    0,    0,    0,\n",
       "           0,    0],\n",
       "       [1013,  294, 1709, 1097,   53,  839,  432, 1074,  329, 1531,  138,\n",
       "        1183,  284,  522,  433,  329,  872,  294,  329,  118,  138,  432,\n",
       "        1094, 1636,   38,  849,   82,    0,    0,    0,    0,    0,    0,\n",
       "           0,    0],\n",
       "       [1039,  882, 1341,  287,    0,    0,    0,    0,    0,    0,    0,\n",
       "           0,    0,    0,    0,    0,    0,    0,    0,    0,    0,    0,\n",
       "           0,    0,    0,    0,    0,    0,    0,    0,    0,    0,    0,\n",
       "           0,    0]])"
      ]
     },
     "execution_count": 171,
     "metadata": {},
     "output_type": "execute_result"
    }
   ],
   "source": [
    "len(seq)\n",
    "seq"
   ]
  },
  {
   "cell_type": "code",
   "execution_count": 172,
   "id": "fc6a382e-2d71-4abc-80e6-252fe1c43a95",
   "metadata": {},
   "outputs": [],
   "source": [
    "val_y = tf.constant([1,1,1,1,1,1,1,1,1,1,1,1,1,1,1,1,1,1,1,1,1,1,1,1,1,1])"
   ]
  },
  {
   "cell_type": "code",
   "execution_count": 207,
   "id": "18f240e3-1d53-4b9f-81ee-0bce45eb86ac",
   "metadata": {},
   "outputs": [],
   "source": [
    "model = Sequential(name='test')\n",
    "model.add(Embedding(1824 , 8,input_length = 35, name=\"test\"))\n",
    "model.add(Flatten())\n",
    "model.add(Dense(1,activation='sigmoid'))"
   ]
  },
  {
   "cell_type": "code",
   "execution_count": 208,
   "id": "cf37ea9d-3fa0-4222-bf19-5fad197d2f8f",
   "metadata": {},
   "outputs": [
    {
     "name": "stdout",
     "output_type": "stream",
     "text": [
      "Model: \"test\"\n",
      "_________________________________________________________________\n",
      " Layer (type)                Output Shape              Param #   \n",
      "=================================================================\n",
      " test (Embedding)            (None, 35, 8)             14592     \n",
      "                                                                 \n",
      " flatten_12 (Flatten)        (None, 280)               0         \n",
      "                                                                 \n",
      " dense_12 (Dense)            (None, 1)                 281       \n",
      "                                                                 \n",
      "=================================================================\n",
      "Total params: 14873 (58.10 KB)\n",
      "Trainable params: 14873 (58.10 KB)\n",
      "Non-trainable params: 0 (0.00 Byte)\n",
      "_________________________________________________________________\n"
     ]
    }
   ],
   "source": [
    "model.compile(optimizer=\"adam\" , loss=\"binary_crossentropy\" , metrics=['accuracy'])\n",
    "model.summary()"
   ]
  },
  {
   "cell_type": "code",
   "execution_count": 209,
   "id": "601e87fb-2673-428d-afeb-7d6b372449ff",
   "metadata": {},
   "outputs": [
    {
     "name": "stdout",
     "output_type": "stream",
     "text": [
      "Epoch 1/3\n",
      "1/1 [==============================] - 1s 854ms/step - loss: 0.6952 - accuracy: 0.3846\n",
      "Epoch 2/3\n",
      "1/1 [==============================] - 0s 5ms/step - loss: 0.6886 - accuracy: 0.6538\n",
      "Epoch 3/3\n",
      "1/1 [==============================] - 0s 20ms/step - loss: 0.6822 - accuracy: 0.8077\n"
     ]
    },
    {
     "data": {
      "text/plain": [
       "<keras.src.callbacks.History at 0x18a941b27d0>"
      ]
     },
     "execution_count": 209,
     "metadata": {},
     "output_type": "execute_result"
    }
   ],
   "source": [
    "model.fit(seq , val_y , epochs = 3, verbose=1)"
   ]
  },
  {
   "cell_type": "code",
   "execution_count": 210,
   "id": "4d7c9871-ac88-488d-b0d9-e676f05f98cb",
   "metadata": {},
   "outputs": [
    {
     "data": {
      "text/plain": [
       "array([[-0.0274033 ,  0.01546236, -0.04228716, ..., -0.02283497,\n",
       "         0.04345784, -0.01147586],\n",
       "       [-0.04863602,  0.03253995, -0.00801573, ..., -0.01987012,\n",
       "        -0.02095337,  0.00263752],\n",
       "       [-0.00812541,  0.03034611, -0.02958381, ..., -0.01640904,\n",
       "        -0.01692934,  0.04761786],\n",
       "       ...,\n",
       "       [ 0.03248877,  0.03311807,  0.04712412, ..., -0.02202551,\n",
       "        -0.01946074,  0.0032986 ],\n",
       "       [-0.01844517, -0.02570834,  0.00321177, ..., -0.03401607,\n",
       "         0.02445797, -0.02542933],\n",
       "       [-0.03607739,  0.00791265, -0.03891408, ..., -0.00288069,\n",
       "        -0.03279876,  0.00769728]], dtype=float32)"
      ]
     },
     "execution_count": 210,
     "metadata": {},
     "output_type": "execute_result"
    }
   ],
   "source": [
    "weights=model.get_layer(\"test\").get_weights()[0]\n",
    "weights"
   ]
  },
  {
   "cell_type": "code",
   "execution_count": 211,
   "id": "2d3007f9-178f-4da1-91ef-9b55ed79fef0",
   "metadata": {},
   "outputs": [
    {
     "data": {
      "text/plain": [
       "(1824, 8)"
      ]
     },
     "execution_count": 211,
     "metadata": {},
     "output_type": "execute_result"
    }
   ],
   "source": [
    "weights.shape"
   ]
  },
  {
   "cell_type": "code",
   "execution_count": 212,
   "id": "3bb27a74-9513-4fe4-9396-d8679fcda05b",
   "metadata": {},
   "outputs": [
    {
     "data": {
      "text/plain": [
       "228"
      ]
     },
     "execution_count": 212,
     "metadata": {},
     "output_type": "execute_result"
    }
   ],
   "source": [
    "1824//8"
   ]
  },
  {
   "cell_type": "code",
   "execution_count": 213,
   "id": "97e53e18-e9e1-4fe9-bcad-a9d8d94528f0",
   "metadata": {},
   "outputs": [
    {
     "data": {
      "text/plain": [
       "array([ 0.00269117, -0.02601526, -0.02883984, -0.00068732,  0.01522227,\n",
       "        0.01161862,  0.02836145,  0.02450697], dtype=float32)"
      ]
     },
     "execution_count": 213,
     "metadata": {},
     "output_type": "execute_result"
    }
   ],
   "source": [
    "weights[936]  #Word Embedding for word good"
   ]
  },
  {
   "cell_type": "code",
   "execution_count": 214,
   "id": "340a76e4-872e-4fee-9a2a-7dd6bec22c5a",
   "metadata": {},
   "outputs": [
    {
     "data": {
      "text/plain": [
       "array([-0.00081421,  0.0454411 , -0.00887149,  0.01774893, -0.03144885,\n",
       "        0.04522724, -0.03932898,  0.02342558], dtype=float32)"
      ]
     },
     "execution_count": 214,
     "metadata": {},
     "output_type": "execute_result"
    }
   ],
   "source": [
    "weights[1784] #Word Embedding for word great"
   ]
  },
  {
   "cell_type": "raw",
   "id": "126d2b5e-af1d-4609-a12a-66cff6348ebb",
   "metadata": {},
   "source": [
    "###This is a markdown"
   ]
  },
  {
   "cell_type": "code",
   "execution_count": 194,
   "id": "577b97dc-cde3-483e-8173-050961a6a9ce",
   "metadata": {},
   "outputs": [
    {
     "data": {
      "text/plain": [
       "array([ 0.01779744, -0.0344369 , -0.03849164,  0.01194524,  0.01555499,\n",
       "       -0.03767241,  0.04052274, -0.03030743], dtype=float32)"
      ]
     },
     "execution_count": 194,
     "metadata": {},
     "output_type": "execute_result"
    }
   ],
   "source": [
    "weights[976]"
   ]
  },
  {
   "cell_type": "code",
   "execution_count": null,
   "id": "8993b21f-38f5-4c76-bb43-9aff8e0ab84e",
   "metadata": {},
   "outputs": [],
   "source": []
  }
 ],
 "metadata": {
  "kernelspec": {
   "display_name": "Python 3 (ipykernel)",
   "language": "python",
   "name": "python3"
  },
  "language_info": {
   "codemirror_mode": {
    "name": "ipython",
    "version": 3
   },
   "file_extension": ".py",
   "mimetype": "text/x-python",
   "name": "python",
   "nbconvert_exporter": "python",
   "pygments_lexer": "ipython3",
   "version": "3.11.5"
  }
 },
 "nbformat": 4,
 "nbformat_minor": 5
}
